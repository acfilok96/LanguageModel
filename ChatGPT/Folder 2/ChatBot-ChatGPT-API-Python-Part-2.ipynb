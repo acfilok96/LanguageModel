{
 "cells": [
  {
   "cell_type": "code",
   "execution_count": 1,
   "id": "74049e27",
   "metadata": {},
   "outputs": [],
   "source": [
    "import openai"
   ]
  },
  {
   "cell_type": "code",
   "execution_count": 2,
   "id": "9fe5a13d",
   "metadata": {},
   "outputs": [],
   "source": [
    "# Set your OpenAI API key\n",
    "openai.api_key = open(\"chatGPT API Key.txt\",'r').read().strip(\"\\n\")\n",
    "# print(openai.api_key)"
   ]
  },
  {
   "cell_type": "code",
   "execution_count": 6,
   "id": "304826d3",
   "metadata": {},
   "outputs": [],
   "source": [
    "def ChatGPTChatBoatFunction(message_history):\n",
    "    print(\"Enter 'Exit' To end the conversation\\n\")\n",
    "    while(True):\n",
    "        # Enter Prompt/Question\n",
    "        enter_prompt = input(\"Prompt: \")\n",
    "        if enter_prompt.lower() != str(\"exit\"):\n",
    "            message_history.append({\"role\" : \"user\", \"content\" : enter_prompt})\n",
    "            response = openai.ChatCompletion.create(model=\"gpt-3.5-turbo-0613\",  # The GPT-3 engine to use\n",
    "                                            messages = message_history)\n",
    "            answer = response.choices[0].message.content\n",
    "            message_history.append({\"role\" : \"assistant\", \"content\" : answer})\n",
    "            print(\"Response: \",answer)\n",
    "            print()\n",
    "        else:\n",
    "            print(\"Bye! Thank you for visiting this service\")\n",
    "            break"
   ]
  },
  {
   "cell_type": "code",
   "execution_count": 7,
   "id": "cf63a5f5",
   "metadata": {},
   "outputs": [],
   "source": [
    "def ChatGPTChatBot():\n",
    "    message_history = []\n",
    "    ChatGPTChatBoatFunction(message_history)"
   ]
  },
  {
   "cell_type": "code",
   "execution_count": 8,
   "id": "22054d8a",
   "metadata": {},
   "outputs": [
    {
     "name": "stdout",
     "output_type": "stream",
     "text": [
      "Enter 'Exit' To end the conversation\n",
      "\n",
      "Prompt: hi\n",
      "Response:  Hello! How can I assist you today?\n",
      "\n",
      "Prompt: 2+2 = ?\n",
      "Response:  2 + 2 equals 4. Is there anything else I can help you with?\n",
      "\n",
      "Prompt: add 6\n",
      "Response:  If you add 6 to 4, the total is 10. Can I assist you with anything else?\n",
      "\n",
      "Prompt: exit\n",
      "Bye! Thank you for visiting this service\n"
     ]
    }
   ],
   "source": [
    "ChatGPTChatBot()"
   ]
  },
  {
   "cell_type": "markdown",
   "id": "5bf91de1",
   "metadata": {},
   "source": [
    "                                            -:END:-"
   ]
  }
 ],
 "metadata": {
  "kernelspec": {
   "display_name": "Python 3 (ipykernel)",
   "language": "python",
   "name": "python3"
  },
  "language_info": {
   "codemirror_mode": {
    "name": "ipython",
    "version": 3
   },
   "file_extension": ".py",
   "mimetype": "text/x-python",
   "name": "python",
   "nbconvert_exporter": "python",
   "pygments_lexer": "ipython3",
   "version": "3.9.12"
  }
 },
 "nbformat": 4,
 "nbformat_minor": 5
}
