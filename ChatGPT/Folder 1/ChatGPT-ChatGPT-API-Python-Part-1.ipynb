{
 "cells": [
  {
   "cell_type": "markdown",
   "id": "b5db190c",
   "metadata": {},
   "source": [
    "Install openai library using below code"
   ]
  },
  {
   "cell_type": "code",
   "execution_count": 23,
   "id": "ccb1bb19",
   "metadata": {},
   "outputs": [
    {
     "name": "stdout",
     "output_type": "stream",
     "text": [
      "Requirement already satisfied: openai in c:\\users\\dipankar porey\\anaconda3\\envs\\tensorflow_env\\lib\\site-packages (0.27.8)\n",
      "Requirement already satisfied: aiohttp in c:\\users\\dipankar porey\\anaconda3\\envs\\tensorflow_env\\lib\\site-packages (from openai) (3.8.5)\n",
      "Requirement already satisfied: tqdm in c:\\users\\dipankar porey\\anaconda3\\envs\\tensorflow_env\\lib\\site-packages (from openai) (4.64.0)\n",
      "Requirement already satisfied: requests>=2.20 in c:\\users\\dipankar porey\\anaconda3\\envs\\tensorflow_env\\lib\\site-packages (from openai) (2.28.1)\n",
      "Requirement already satisfied: certifi>=2017.4.17 in c:\\users\\dipankar porey\\anaconda3\\envs\\tensorflow_env\\lib\\site-packages (from requests>=2.20->openai) (2022.6.15)\n",
      "Requirement already satisfied: idna<4,>=2.5 in c:\\users\\dipankar porey\\anaconda3\\envs\\tensorflow_env\\lib\\site-packages (from requests>=2.20->openai) (3.3)\n",
      "Requirement already satisfied: charset-normalizer<3,>=2 in c:\\users\\dipankar porey\\anaconda3\\envs\\tensorflow_env\\lib\\site-packages (from requests>=2.20->openai) (2.1.1)\n",
      "Requirement already satisfied: urllib3<1.27,>=1.21.1 in c:\\users\\dipankar porey\\anaconda3\\envs\\tensorflow_env\\lib\\site-packages (from requests>=2.20->openai) (1.26.11)\n",
      "Requirement already satisfied: multidict<7.0,>=4.5 in c:\\users\\dipankar porey\\anaconda3\\envs\\tensorflow_env\\lib\\site-packages (from aiohttp->openai) (6.0.4)\n",
      "Requirement already satisfied: yarl<2.0,>=1.0 in c:\\users\\dipankar porey\\anaconda3\\envs\\tensorflow_env\\lib\\site-packages (from aiohttp->openai) (1.9.2)\n",
      "Requirement already satisfied: aiosignal>=1.1.2 in c:\\users\\dipankar porey\\anaconda3\\envs\\tensorflow_env\\lib\\site-packages (from aiohttp->openai) (1.3.1)\n",
      "Requirement already satisfied: async-timeout<5.0,>=4.0.0a3 in c:\\users\\dipankar porey\\anaconda3\\envs\\tensorflow_env\\lib\\site-packages (from aiohttp->openai) (4.0.2)\n",
      "Requirement already satisfied: frozenlist>=1.1.1 in c:\\users\\dipankar porey\\anaconda3\\envs\\tensorflow_env\\lib\\site-packages (from aiohttp->openai) (1.4.0)\n",
      "Requirement already satisfied: attrs>=17.3.0 in c:\\users\\dipankar porey\\anaconda3\\envs\\tensorflow_env\\lib\\site-packages (from aiohttp->openai) (21.4.0)\n",
      "Requirement already satisfied: colorama in c:\\users\\dipankar porey\\anaconda3\\envs\\tensorflow_env\\lib\\site-packages (from tqdm->openai) (0.4.5)\n"
     ]
    }
   ],
   "source": [
    "!pip install openai"
   ]
  },
  {
   "cell_type": "markdown",
   "id": "c12b2e6b",
   "metadata": {},
   "source": [
    "Import openai Library"
   ]
  },
  {
   "cell_type": "code",
   "execution_count": 24,
   "id": "53af0921",
   "metadata": {},
   "outputs": [],
   "source": [
    "import openai"
   ]
  },
  {
   "cell_type": "markdown",
   "id": "a4c13c9c",
   "metadata": {},
   "source": [
    "Now Open the ChatGPT account and from dashboard one can create and copy the API Key and save it as a .txt file"
   ]
  },
  {
   "cell_type": "markdown",
   "id": "b74afecd",
   "metadata": {},
   "source": [
    "Connect the API Key with system using below code"
   ]
  },
  {
   "cell_type": "code",
   "execution_count": 25,
   "id": "4242cb03",
   "metadata": {},
   "outputs": [],
   "source": [
    "# Set your OpenAI API key\n",
    "openai.api_key = open(\"chatGPT API Key.txt\",'r').read().strip(\"\\n\")\n",
    "# print(openai.api_key)"
   ]
  },
  {
   "cell_type": "markdown",
   "id": "4d59fb97",
   "metadata": {},
   "source": [
    "In the below function, One system has been created where \"gpt-3.5-turbo\" used as a model."
   ]
  },
  {
   "cell_type": "code",
   "execution_count": 26,
   "id": "41e970c7",
   "metadata": {},
   "outputs": [],
   "source": [
    "def ChatGPTChatBoat():\n",
    "    print(\"Enter Exit To end the conversation\\n\")\n",
    "    while(True):\n",
    "        # Enter Prompt/Question\n",
    "        enter_prompt = input(\"Question: \")\n",
    "        enter_prompt = enter_prompt[:9]\n",
    "        if enter_prompt.lower() != str(\"exit\"):\n",
    "            response = openai.ChatCompletion.create(model=\"gpt-3.5-turbo\",  # The GPT-3 engine to use\n",
    "                                            messages = [{\"role\" : \"assistant\", \"content\" : enter_prompt}]\n",
    "                                           )\n",
    "            answer = response.choices[0].message.content\n",
    "            print(\"Answer: \",answer)\n",
    "        else:\n",
    "            break"
   ]
  },
  {
   "cell_type": "code",
   "execution_count": 21,
   "id": "d68401b0",
   "metadata": {},
   "outputs": [
    {
     "name": "stdout",
     "output_type": "stream",
     "text": [
      "Enter Exit To end the conversation\n",
      "\n",
      "Question: hi\n",
      "Answer:  Hello! How can I assist you today?\n",
      "Question: how are you?\n",
      "Answer:  I'm doing well, thank you for asking! How can I assist you today?\n",
      "Question: who is the creator of chatgpt?\n",
      "Answer:  There is not enough information provided to answer this question. Can you please provide more context or specify which \"th\" you are referring to?\n",
      "Question: who is ceo of chatgpt?\n",
      "Answer:  As an AI language model, I don't have access to personal data about individuals unless it has been shared with me in the course of our conversation. I am designed to respect user privacy and confidentiality. Therefore, I can't provide information about a specific person without sufficient context or their explicit consent.\n",
      "Question: thanks\n",
      "Answer:  You're welcome! Let me know if there's anything else I can help you with.\n",
      "Question: exit\n"
     ]
    }
   ],
   "source": [
    "ChatGPTChatBoat()"
   ]
  }
 ],
 "metadata": {
  "kernelspec": {
   "display_name": "Python 3 (ipykernel)",
   "language": "python",
   "name": "python3"
  },
  "language_info": {
   "codemirror_mode": {
    "name": "ipython",
    "version": 3
   },
   "file_extension": ".py",
   "mimetype": "text/x-python",
   "name": "python",
   "nbconvert_exporter": "python",
   "pygments_lexer": "ipython3",
   "version": "3.9.12"
  }
 },
 "nbformat": 4,
 "nbformat_minor": 5
}
